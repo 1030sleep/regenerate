{
 "cells": [
  {
   "cell_type": "code",
   "execution_count": null,
   "metadata": {},
   "outputs": [],
   "source": []
  },
  {
   "attachments": {},
   "cell_type": "markdown",
   "metadata": {},
   "source": [
    "<img src=\"imgs\\parity.png\" width=\"30%\">\n",
    "<img src=\"imgs\\copy.png\" width=\"30%\">\n",
    "<img src=\"imgs\\addition.png\" width=\"30%\">"
   ]
  }
 ],
 "metadata": {
  "language_info": {
   "name": "python"
  },
  "orig_nbformat": 4
 },
 "nbformat": 4,
 "nbformat_minor": 2
}
